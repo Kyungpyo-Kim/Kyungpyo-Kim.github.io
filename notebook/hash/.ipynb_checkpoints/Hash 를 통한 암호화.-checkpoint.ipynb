{
 "cells": [
  {
   "cell_type": "markdown",
   "metadata": {},
   "source": [
    "# Hash 를 통한 암호화\n",
    "\n",
    "* Hash 를 통해 암호화 하고 이를 라이센스 키로 사용하는 방법 테스트\n",
    "* MAC 주소를 불러와 hash 를 통해서 암호 키를 생성하고,\n",
    "* 생성된 암호키를 어플리케이션 내해서 확인하여 라이센스 검증 테스트를 수행한다.\n",
    "\n",
    "#### Digest 란?\n",
    "암호화해시를 통해 얻은 메시지 (여기서는 라이센스 키로 사용)"
   ]
  },
  {
   "cell_type": "markdown",
   "metadata": {},
   "source": [
    "#### MAC address 를 이용한 digest 생성"
   ]
  },
  {
   "cell_type": "code",
   "execution_count": 4,
   "metadata": {},
   "outputs": [],
   "source": [
    "import hashlib\n",
    "import uuid\n",
    "\n",
    "# get MAC address\n",
    "myMacAdr = hex(uuid.getnode()) + \"20190527\"\n",
    "\n",
    "# generate key using hash\n",
    "myHash = hashlib.sha512(myMacAdr.encode('utf-8')).hexdigest()\n",
    "testKey = open('test.key', 'w')\n",
    "testKey.write(myHash)\n",
    "testKey.close()\n",
    "\n",
    "# test key for fail test\n",
    "testAdr1 = hex(uuid.getnode()) + \"20190528\"\n",
    "testHash1 = hashlib.sha512(testAdr1.encode('utf-8')).hexdigest()\n",
    "testKey1 = open('test1.key', 'w')\n",
    "testKey1.write(testHash1)\n",
    "testKey1.close()\n",
    "\n",
    "testAdr2 = hex(uuid.getnode() + 0x000012340000) + \"20190527\"\n",
    "testHash2 = hashlib.sha512(testAdr2.encode('utf-8')).hexdigest()\n",
    "testKey2 = open('test2.key', 'w')\n",
    "testKey2.write(testHash1)\n",
    "testKey2.close()"
   ]
  },
  {
   "cell_type": "markdown",
   "metadata": {},
   "source": [
    "Key 값 을 이용한 어플리케이션의 라이센스 검증 테스트"
   ]
  },
  {
   "cell_type": "code",
   "execution_count": 5,
   "metadata": {},
   "outputs": [],
   "source": [
    "class testApp():\n",
    "    def __init__(self, key):\n",
    "        print (\"Initialize testApp using key: {}\".format(key))\n",
    "        # open key\n",
    "        self.license = 'fail'\n",
    "        testKey = open(key, 'r')\n",
    "        \n",
    "        # make true key\n",
    "        # get MAC address\n",
    "        myMacAdr = hex(uuid.getnode()) + \"20190527\"\n",
    "        # generate key using hash\n",
    "        myHash = hashlib.sha512(myMacAdr.encode('utf-8')).hexdigest()\n",
    "        \n",
    "        if testKey.readline() == myHash:\n",
    "            self.license = 'pass'\n",
    "            \n",
    "    def runApp(self):\n",
    "        if self.license == 'pass':\n",
    "            print(\"Success to run applicatgion\")\n",
    "        else:\n",
    "            print(\"Fail to run application\\n\\n\")\n",
    "            return\n",
    "            \n",
    "        print (\" ---------------\")\n",
    "        print (\" run application\")\n",
    "        print (\" ---------------\\n\\n\")"
   ]
  },
  {
   "cell_type": "code",
   "execution_count": 6,
   "metadata": {},
   "outputs": [
    {
     "name": "stdout",
     "output_type": "stream",
     "text": [
      "Initialize testApp using key: test.key\n",
      "Success to run applicatgion\n",
      " ---------------\n",
      " run application\n",
      " ---------------\n",
      "\n",
      "\n",
      "Initialize testApp using key: test1.key\n",
      "Fail to run application\n",
      "\n",
      "\n",
      "Initialize testApp using key: test2.key\n",
      "Fail to run application\n",
      "\n",
      "\n"
     ]
    }
   ],
   "source": [
    "test = testApp('test.key')\n",
    "test.runApp()\n",
    "test1 = testApp('test1.key')\n",
    "test1.runApp()\n",
    "test2 = testApp('test2.key')\n",
    "test2.runApp()"
   ]
  },
  {
   "cell_type": "code",
   "execution_count": null,
   "metadata": {},
   "outputs": [],
   "source": []
  }
 ],
 "metadata": {
  "kernelspec": {
   "display_name": "Python 3",
   "language": "python",
   "name": "python3"
  },
  "language_info": {
   "codemirror_mode": {
    "name": "ipython",
    "version": 3
   },
   "file_extension": ".py",
   "mimetype": "text/x-python",
   "name": "python",
   "nbconvert_exporter": "python",
   "pygments_lexer": "ipython3",
   "version": "3.7.3"
  }
 },
 "nbformat": 4,
 "nbformat_minor": 2
}
