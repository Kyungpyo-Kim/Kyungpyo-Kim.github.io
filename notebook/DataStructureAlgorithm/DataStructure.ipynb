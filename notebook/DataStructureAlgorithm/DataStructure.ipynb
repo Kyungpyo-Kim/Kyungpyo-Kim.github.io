{
 "cells": [
  {
   "cell_type": "markdown",
   "metadata": {},
   "source": [
    "# Data Structure\n",
    "\n",
    "## 자료구조의 정의 및 종류\n",
    "\n",
    "자료구조를 물리적으로 구현하는 방법\n",
    "* List\n",
    "* Linked list\n",
    "\n",
    "이를 이용하여 구현된 자료구조의 종류\n",
    "\n",
    "* List\n",
    "* Linked list\n",
    "\n",
    "아래는 **List**, **Linked list** 로 구현이 가능하고,\n",
    "* Array\n",
    "* Stack\n",
    "* Queue\n",
    "* Tree\n",
    "* Heap\n",
    "* Graph\n",
    "\n",
    "데크는 **List** 로 구현이 가능하다.\n",
    "* Deque\n",
    "\n",
    "## 자료구조의 분류\n",
    "\n",
    "자료구조\n",
    " * 단순구조\n",
    "  - 2진수, 정수, 실수, 문자, 문자열 --> 배열, 구조체, 클래스 등 사용자 정의 자료형으로 사용\n",
    "  \n",
    " * 선형구조\n",
    "  _ 리스트\n",
    "  - 연결 리스트 --> 단순 연결, 이중 연결, 원형 연결 리스트\n",
    "  - 데크\n",
    "  - 스택\n",
    "  - 큐\n",
    " \n",
    " * 비선형구조\n",
    "  - 트리 --> 일반 트리, 이진 트리\n",
    "  - 그래프 --> 방향 그래프, 무방향 그래프\n",
    " \n",
    " * 파일구조\n",
    "  - 순차파일\n",
    "  - 색인파일\n",
    "  - 직접파일"
   ]
  },
  {
   "cell_type": "markdown",
   "metadata": {},
   "source": [
    "## 자료구조의 구현"
   ]
  },
  {
   "cell_type": "markdown",
   "metadata": {},
   "source": [
    "### List 형 자료구조\n",
    "* 배열: 크기가 변하지 않음, 중간 값이 지워져도 크기가 일정\n",
    "* 리스트: 크기가 변함, 중간 값이 지워지면 뒤에 값이 앞으로 이동"
   ]
  },
  {
   "cell_type": "markdown",
   "metadata": {},
   "source": [
    "#### Python example\n",
    "List 를 생성하고 삭제, 출력 예시"
   ]
  },
  {
   "cell_type": "code",
   "execution_count": 7,
   "metadata": {},
   "outputs": [
    {
     "name": "stdout",
     "output_type": "stream",
     "text": [
      "The sales result = 12\n",
      "The sales result = 45\n",
      "The sales result = 67\n",
      "The sales result = 43\n",
      "The sales result = 56\n",
      "The sales result = 98\n",
      " delete: 43\n",
      "The sales result = 12\n",
      "The sales result = 45\n",
      "The sales result = 67\n",
      "The sales result = 56\n",
      "The sales result = 98\n"
     ]
    }
   ],
   "source": [
    "# Python List\n",
    "sales_results = [12, 45, 67, 43, 56, 98]\n",
    "\n",
    "for s in sales_results:\n",
    "    print ( \"The sales result = %d\" % ( s ) )\n",
    "    \n",
    "print ( \" delete:\", sales_results[3])\n",
    "del sales_results[3]\n",
    "\n",
    "for s in sales_results:\n",
    "    print ( \"The sales result = %d\" % ( s ) )\n"
   ]
  },
  {
   "cell_type": "markdown",
   "metadata": {},
   "source": [
    "### 연결 리스트 자료구조\n",
    "* 연결 리스트\n",
    "* 더블 연결 리스트\n",
    "* 환형 연결 리스트\n",
    "\n",
    "연결리스트는 데이터 사이의 관계를 이용하기 때문에\n",
    "* 데이터의 중간 삽입과 삭제가 용이\n",
    "* 데이터를 서치하기는 불편"
   ]
  },
  {
   "cell_type": "markdown",
   "metadata": {},
   "source": [
    "#### Python example\n",
    "Node class 를 선언하고 이를 이용해\n",
    "1. 연결 리스트를 생성하고,\n",
    "* 데이터를 삭제,\n",
    "* 데이터를 삽입,\n",
    "* 최종 결과를 출력 한다.\n"
   ]
  },
  {
   "cell_type": "code",
   "execution_count": 1,
   "metadata": {},
   "outputs": [],
   "source": [
    "# Python Linked List\n",
    "\n",
    "class Node:\n",
    "    def __init__(self, data, next=None):\n",
    "        self.data = data\n",
    "        self.next = None # 다음 data"
   ]
  },
  {
   "cell_type": "code",
   "execution_count": 2,
   "metadata": {},
   "outputs": [],
   "source": [
    "# 1. 연결리스트 생성\n",
    "\n",
    "node1 = Node(1)\n",
    "node2 = Node(2)\n",
    "node3 = Node(3)\n",
    "node4 = Node(4)\n",
    "node1.next = node2\n",
    "node2.next = node3\n",
    "node3.next = node4"
   ]
  },
  {
   "cell_type": "code",
   "execution_count": 3,
   "metadata": {},
   "outputs": [],
   "source": [
    "# 2. 구성된 리스트에서 데이터 2 를 지우고 나머지를 연결\n",
    "\n",
    "del_data = 2\n",
    "\n",
    "pre_node = node1\n",
    "next_node = pre_node.next\n",
    "\n",
    "if pre_node.data == del_data:\n",
    "    node1 = next_node\n",
    "    del pre_node\n",
    "    \n",
    "while next_node:\n",
    "    if next_node.data == del_data:\n",
    "        pre_node.next = next_node.next\n",
    "        del next_node\n",
    "        break\n",
    "    pre_node = next_node\n",
    "    next_node = next_node.next"
   ]
  },
  {
   "cell_type": "code",
   "execution_count": 4,
   "metadata": {},
   "outputs": [],
   "source": [
    "# 3. 구성된 리스트에서 데이터 9 를 삽입\n",
    "new_node = Node(9)\n",
    "new_node.next = node1\n",
    "node1 = new_node"
   ]
  },
  {
   "cell_type": "code",
   "execution_count": 5,
   "metadata": {},
   "outputs": [
    {
     "name": "stdout",
     "output_type": "stream",
     "text": [
      "9\n",
      "1\n",
      "3\n",
      "4\n"
     ]
    }
   ],
   "source": [
    "# 4. 결과 출력\n",
    "node = node1\n",
    "while node:\n",
    "    print( node.data )\n",
    "    node = node.next\n"
   ]
  },
  {
   "cell_type": "markdown",
   "metadata": {},
   "source": [
    "### 연결리스트를 이용한 스택 구현\n",
    "#### Python example\n",
    "Link class 를 선언하고 이를 이용해 스택을 구현"
   ]
  },
  {
   "cell_type": "code",
   "execution_count": 1,
   "metadata": {},
   "outputs": [
    {
     "name": "stdout",
     "output_type": "stream",
     "text": [
      "Link list\n",
      "{ 5 ,  500 }\n",
      "{ 4 ,  400 }\n",
      "{ 3 ,  300 }\n",
      "{ 2 ,  200 }\n",
      "{ 1 ,  100 }\n",
      "delete\n",
      "{ 5 ,  500 }\n",
      "delete\n",
      "{ 4 ,  400 }\n",
      "delete\n",
      "{ 3 ,  300 }\n",
      "delete\n",
      "{ 2 ,  200 }\n",
      "delete\n",
      "{ 1 ,  100 }\n",
      "Link list\n"
     ]
    }
   ],
   "source": [
    "# Link class\n",
    "class Link:\n",
    "    def __init__(self, d1=None, d2=None):\n",
    "        self.data1 = d1\n",
    "        self.data2 = d2\n",
    "        self.next_link = None\n",
    "\n",
    "    def printLink(self):\n",
    "        print ( \"{\", self.data1, \", \", self.data2, \"}\")\n",
    "\n",
    "# LinkList class\n",
    "class LinkList:\n",
    "    def __init__(self):\n",
    "        self.first_link = None\n",
    "    \n",
    "    def isEmpty(self):\n",
    "        return self.first_link == None\n",
    "\n",
    "    def insert(self, d1, d2):\n",
    "        if self.first_link == None : \n",
    "            self.first_link = Link( d1, d2 )\n",
    "        else:\n",
    "            tmp_next_link = self.first_link\n",
    "            self.first_link = Link( d1, d2 )\n",
    "            # first_link 의 next_link 초기화됨\n",
    "            self.first_link.next_link = tmp_next_link\n",
    "      \n",
    "    def delete(self):\n",
    "        rlink = self.first_link\n",
    "        self.first_link = self.first_link.next_link\n",
    "        return rlink\n",
    "\n",
    "    def printList(self):\n",
    "        curLink = self.first_link\n",
    "        print ( \"Link list\" )\n",
    "        while(curLink != None):\n",
    "            curLink.printLink()\n",
    "            curLink = curLink.next_link\n",
    "\n",
    "def test():\n",
    "    link_list = LinkList()\n",
    "    link_list.insert( 1, 100 )\n",
    "    link_list.insert( 2, 200 )\n",
    "    link_list.insert( 3, 300 )\n",
    "    link_list.insert( 4, 400 )\n",
    "    link_list.insert( 5, 500 )\n",
    "  \n",
    "    link_list.printList()\n",
    "\n",
    "    while( not link_list.isEmpty() ):\n",
    "        deletedLink = link_list.delete()\n",
    "        print ( \"delete\" )\n",
    "        deletedLink.printLink()\n",
    "      \n",
    "    link_list.printList()\n",
    "\n",
    "test()"
   ]
  },
  {
   "cell_type": "code",
   "execution_count": null,
   "metadata": {},
   "outputs": [],
   "source": []
  }
 ],
 "metadata": {
  "kernelspec": {
   "display_name": "Python 3",
   "language": "python",
   "name": "python3"
  },
  "language_info": {
   "codemirror_mode": {
    "name": "ipython",
    "version": 3
   },
   "file_extension": ".py",
   "mimetype": "text/x-python",
   "name": "python",
   "nbconvert_exporter": "python",
   "pygments_lexer": "ipython3",
   "version": "3.7.2"
  }
 },
 "nbformat": 4,
 "nbformat_minor": 2
}
